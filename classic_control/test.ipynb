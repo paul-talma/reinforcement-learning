{
 "cells": [
  {
   "cell_type": "code",
   "execution_count": 8,
   "metadata": {},
   "outputs": [
    {
     "ename": "SyntaxError",
     "evalue": "invalid syntax (205732928.py, line 6)",
     "output_type": "error",
     "traceback": [
      "\u001b[0;36m  Cell \u001b[0;32mIn[8], line 6\u001b[0;36m\u001b[0m\n\u001b[0;31m    import ..params\u001b[0m\n\u001b[0m           ^\u001b[0m\n\u001b[0;31mSyntaxError\u001b[0m\u001b[0;31m:\u001b[0m invalid syntax\n"
     ]
    }
   ],
   "source": [
    "# toy model\n",
    "import numpy as np\n",
    "from keras.models import Sequential\n",
    "from keras.layers import Dense\n",
    "from keras.optimizers import Adam\n",
    "import\n",
    "\n",
    "model = Sequential([\n",
    "    Dense(2, \"relu\"),\n",
    "    Dense(3, \"relu\"),\n",
    "    Dense(2, \"linear\")\n",
    "])"
   ]
  },
  {
   "cell_type": "code",
   "execution_count": 7,
   "metadata": {},
   "outputs": [
    {
     "name": "stdout",
     "output_type": "stream",
     "text": [
      "[<Dense name=dense, built=True>, <Dense name=dense_1, built=True>, <Dense name=dense_2, built=True>]\n",
      "[<KerasVariable shape=(2, 2), dtype=float32, path=sequential/dense/kernel>, <KerasVariable shape=(2,), dtype=float32, path=sequential/dense/bias>]\n",
      "tf.Tensor([[0.75109303 0.4058654 ]], shape=(1, 2), dtype=float32)\n",
      "tf.Tensor([1.1142918 0.5046524], shape=(2,), dtype=float32) <KerasVariable shape=(2,), dtype=float32, path=sequential/dense/bias>\n"
     ]
    }
   ],
   "source": [
    "print(model.layers)\n",
    "print(model.layers[0].weights)\n",
    "\n",
    "x = np.ones((1, 2))\n",
    "y = model(x)\n",
    "print(y)\n",
    "print(model.layers[0].weights[0][0], model.layers[0].weights[1])"
   ]
  }
 ],
 "metadata": {
  "kernelspec": {
   "display_name": "deepq",
   "language": "python",
   "name": "python3"
  },
  "language_info": {
   "codemirror_mode": {
    "name": "ipython",
    "version": 3
   },
   "file_extension": ".py",
   "mimetype": "text/x-python",
   "name": "python",
   "nbconvert_exporter": "python",
   "pygments_lexer": "ipython3",
   "version": "3.12.0"
  }
 },
 "nbformat": 4,
 "nbformat_minor": 2
}
